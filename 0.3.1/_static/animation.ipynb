{
 "cells": [
  {
   "cell_type": "code",
   "execution_count": 162,
   "id": "80dd0715",
   "metadata": {},
   "outputs": [],
   "source": [
    "import numpy as np\n",
    "from concreteproperties.material import Concrete, Steel\n",
    "import concreteproperties.stress_strain_profile as ssp\n",
    "from shapely.geometry import Polygon\n",
    "from sectionproperties.pre.geometry import Geometry\n",
    "import sectionproperties.pre.library.primitive_sections as sp_ps\n",
    "from concreteproperties.pre import add_bar_rectangular_array\n",
    "from concreteproperties.concrete_section import ConcreteSection"
   ]
  },
  {
   "cell_type": "code",
   "execution_count": 163,
   "id": "43119509",
   "metadata": {},
   "outputs": [],
   "source": [
    "concrete = Concrete(\n",
    "    name=\"40 MPa Concrete\",\n",
    "    density=2.4e-6,\n",
    "    stress_strain_profile=ssp.EurocodeNonLinear(\n",
    "        elastic_modulus=32.8e3,\n",
    "        ultimate_strain=0.0035,\n",
    "        compressive_strength=40,\n",
    "        compressive_strain=0.0023,\n",
    "        tensile_strength=3.8,\n",
    "        tension_softening_stiffness=10e3,\n",
    "    ),\n",
    "    ultimate_stress_strain_profile=ssp.RectangularStressBlock(\n",
    "        compressive_strength=40,\n",
    "        alpha=0.79,\n",
    "        gamma=0.87,\n",
    "        ultimate_strain=0.003,\n",
    "    ),\n",
    "    flexural_tensile_strength=3.8,\n",
    "    colour=\"lightgrey\",\n",
    ")\n",
    "\n",
    "steel = Steel(\n",
    "    name=\"500 MPa Steel\",\n",
    "    density=7.85e-6,\n",
    "    stress_strain_profile=ssp.SteelElasticPlastic(\n",
    "        yield_strength=500,\n",
    "        elastic_modulus=200e3,\n",
    "        fracture_strain=0.05,\n",
    "    ),\n",
    "    colour=\"grey\",\n",
    ")"
   ]
  },
  {
   "cell_type": "code",
   "execution_count": 164,
   "id": "bcc69df7",
   "metadata": {},
   "outputs": [
    {
     "data": {
      "image/png": "[encoded data removed]",
      "text/plain": [
       "<Figure size 432x288 with 1 Axes>"
      ]
     },
     "metadata": {
      "needs_background": "light"
     },
     "output_type": "display_data"
    },
    {
     "data": {
      "text/plain": [
       "<AxesSubplot:title={'center':'Reinforced Concrete Section'}>"
      ]
     },
     "execution_count": 164,
     "metadata": {},
     "output_type": "execute_result"
    }
   ],
   "source": [
    "# construct box by subtracting an inner rectangle from an outer rectangle\n",
    "outer_points = [\n",
    "    [50, 0],\n",
    "    [850, 0],\n",
    "    [900, 50],\n",
    "    [900, 1150],\n",
    "    [850, 1200],\n",
    "    [50, 1200],\n",
    "    [0, 1150],\n",
    "    [0, 50],\n",
    "]\n",
    "inner_points = [\n",
    "    [50, 0],\n",
    "    [550, 0],\n",
    "    [600, 50],\n",
    "    [600, 850],\n",
    "    [550, 900],\n",
    "    [50, 900],\n",
    "    [0, 850],\n",
    "    [0, 50],\n",
    "]\n",
    "outer = Geometry(geom=Polygon(outer_points), material=concrete)\n",
    "inner = Geometry(geom=Polygon(inner_points)).align_center(align_to=outer)\n",
    "geom = outer - inner\n",
    "\n",
    "# add bottom bars\n",
    "geom = add_bar_rectangular_array(\n",
    "    geometry=geom,\n",
    "    area=620,\n",
    "    material=steel,\n",
    "    n_x=9,\n",
    "    x_s=750 / 8,\n",
    "    anchor=(75, 75),\n",
    "    n=16,\n",
    ")\n",
    "\n",
    "# add top bars\n",
    "geom = add_bar_rectangular_array(\n",
    "    geometry=geom,\n",
    "    area=310,\n",
    "    material=steel,\n",
    "    n_x=9,\n",
    "    x_s=750 / 8,\n",
    "    anchor=(75, 1125),\n",
    "    n=16,\n",
    ")\n",
    "\n",
    "# add side bars\n",
    "geom = add_bar_rectangular_array(\n",
    "    geometry=geom,\n",
    "    area=200,\n",
    "    material=steel,\n",
    "    n_x=2,\n",
    "    x_s=750,\n",
    "    n_y=6,\n",
    "    y_s=150,\n",
    "    anchor=(75, 225),\n",
    "    n=16,\n",
    ")\n",
    "\n",
    "conc_sec = ConcreteSection(geom)\n",
    "conc_sec.plot_section()"
   ]
  },
  {
   "cell_type": "code",
   "execution_count": 165,
   "id": "380bd20e",
   "metadata": {},
   "outputs": [
    {
     "data": {
      "application/vnd.jupyter.widget-view+json": {
       "model_id": "ab5aa11a404b433eb0b2a338210ebe20",
       "version_major": 2,
       "version_minor": 0
      },
      "text/plain": [
       "Output()"
      ]
     },
     "metadata": {},
     "output_type": "display_data"
    },
    {
     "data": {
      "text/html": [
       "<pre style=\"white-space:pre;overflow-x:auto;line-height:normal;font-family:Menlo,'DejaVu Sans Mono',consolas,'Courier New',monospace\"></pre>\n"
      ],
      "text/plain": []
     },
     "metadata": {},
     "output_type": "display_data"
    }
   ],
   "source": [
    "mk_res = conc_sec.moment_curvature_analysis()"
   ]
  },
  {
   "cell_type": "code",
   "execution_count": 166,
   "id": "5fb9dee6",
   "metadata": {
    "scrolled": true
   },
   "outputs": [
    {
     "data": {
      "image/png": "[encoded data removed]",
      "text/plain": [
       "<Figure size 432x288 with 1 Axes>"
      ]
     },
     "metadata": {
      "needs_background": "light"
     },
     "output_type": "display_data"
    },
    {
     "data": {
      "text/plain": [
       "<AxesSubplot:title={'center':'Moment-Curvature'}, xlabel='Curvature', ylabel='Moment'>"
      ]
     },
     "execution_count": 166,
     "metadata": {},
     "output_type": "execute_result"
    }
   ],
   "source": [
    "mk_res.plot_results()"
   ]
  },
  {
   "cell_type": "code",
   "execution_count": 167,
   "id": "18cac839",
   "metadata": {
    "scrolled": true
   },
   "outputs": [
    {
     "name": "stdout",
     "output_type": "stream",
     "text": [
      "401\n"
     ]
    }
   ],
   "source": [
    "kappa_list = np.arange(0, 2e-5, 5e-8)\n",
    "n_kappa = len(kappa_list)\n",
    "print(n_kappa)"
   ]
  },
  {
   "cell_type": "code",
   "execution_count": 168,
   "id": "3fc7269b",
   "metadata": {},
   "outputs": [
    {
     "name": "stdout",
     "output_type": "stream",
     "text": [
      "0.00% complete\n",
      "5.00% complete\n",
      "10.00% complete\n",
      "15.00% complete\n",
      "20.00% complete\n",
      "25.00% complete\n",
      "30.00% complete\n",
      "35.00% complete\n",
      "40.00% complete\n",
      "45.00% complete\n",
      "50.00% complete\n",
      "55.00% complete\n",
      "60.00% complete\n",
      "65.00% complete\n",
      "70.00% complete\n",
      "75.00% complete\n",
      "80.00% complete\n",
      "85.00% complete\n",
      "90.00% complete\n",
      "95.00% complete\n"
     ]
    }
   ],
   "source": [
    "stress_res_list = []\n",
    "moment_list = [0]\n",
    "\n",
    "for idx, kappa in enumerate(kappa_list[1:]):\n",
    "    stress_res = conc_sec.calculate_service_stress(\n",
    "        moment_curvature_results=mk_res, m=None, kappa=kappa\n",
    "    )\n",
    "    stress_res_list.append(stress_res)\n",
    "    moment_list.append(stress_res.sum_moments())\n",
    "    if idx % 20 == 0:\n",
    "        print(f\"{idx/(n_kappa-1)*100:.2f}% complete\")"
   ]
  },
  {
   "cell_type": "code",
   "execution_count": 169,
   "id": "cda384c3",
   "metadata": {},
   "outputs": [],
   "source": [
    "# modified plot stress function\n",
    "from concreteproperties.post import plotting_context\n",
    "import matplotlib.pyplot as plt\n",
    "import matplotlib.tri as tri\n",
    "import matplotlib.cm as cm\n",
    "from matplotlib.colors import CenteredNorm\n",
    "import matplotlib.patches as mpatches\n",
    "from matplotlib.collections import PatchCollection\n",
    "import warnings\n",
    "\n",
    "\n",
    "def plot_stress_and_graph(res_idx, mk_res_list, k_list, m_list, **kwargs):\n",
    "    with plotting_context(title=\"Stress\", **kwargs) as (fig, ax):\n",
    "        # plot background\n",
    "        mk_res_list[res_idx].concrete_section.plot_section(\n",
    "            background=True, **dict(kwargs, ax=ax)\n",
    "        )\n",
    "\n",
    "        # set up the colormaps\n",
    "        cmap_conc = cm.get_cmap(name=\"RdGy\")\n",
    "        cmap_steel = cm.get_cmap(name=\"bwr\")\n",
    "\n",
    "        # determine minimum and maximum stress values for the contour list\n",
    "        # add tolerance for plotting stress blocks\n",
    "        conc_sig_min = (\n",
    "            min([min(x) for x in mk_res_list[res_idx].concrete_stresses]) - 1e-12\n",
    "        )\n",
    "        conc_sig_max = (\n",
    "            max([max(x) for x in mk_res_list[res_idx].concrete_stresses]) + 1e-12\n",
    "        )\n",
    "        steel_sig_min = min(mk_res_list[res_idx].steel_stresses)\n",
    "        steel_sig_max = max(mk_res_list[res_idx].steel_stresses)\n",
    "\n",
    "        # set up ticks\n",
    "        v_conc = np.linspace(conc_sig_min, conc_sig_max, 15, endpoint=True)\n",
    "        v_steel = np.linspace(steel_sig_min, steel_sig_max, 15, endpoint=True)\n",
    "        ticks_conc = v_conc\n",
    "        ticks_steel = v_steel\n",
    "\n",
    "        # plot the concrete stresses\n",
    "        for idx, sig in enumerate(mk_res_list[res_idx].concrete_stresses):\n",
    "            # check region has a force\n",
    "            if abs(mk_res_list[res_idx].concrete_forces[idx][0]) > 1e-8:\n",
    "                # create triangulation\n",
    "                triang = tri.Triangulation(\n",
    "                    mk_res_list[res_idx]\n",
    "                    .concrete_analysis_sections[idx]\n",
    "                    .mesh_nodes[:, 0],\n",
    "                    mk_res_list[res_idx]\n",
    "                    .concrete_analysis_sections[idx]\n",
    "                    .mesh_nodes[:, 1],\n",
    "                    mk_res_list[res_idx]\n",
    "                    .concrete_analysis_sections[idx]\n",
    "                    .mesh_elements[:, 0:3],\n",
    "                )\n",
    "\n",
    "                # plot the filled contour\n",
    "                trictr = ax.tricontourf(\n",
    "                    triang, sig, v_conc, cmap=cmap_conc, norm=CenteredNorm()\n",
    "                )\n",
    "\n",
    "                # plot a zero stress contour, supressing warning\n",
    "                with warnings.catch_warnings():\n",
    "                    warnings.filterwarnings(\n",
    "                        \"ignore\",\n",
    "                        message=\"No contour levels were found within the data range.\",\n",
    "                    )\n",
    "\n",
    "                    # set zero stress for neutral axis contour\n",
    "                    zero_level = 0\n",
    "\n",
    "                    if min(sig) > 0:\n",
    "                        if min(sig) < 1e-3:\n",
    "                            zero_level = min(sig) + 1e-12\n",
    "\n",
    "                    if max(sig) < 0:\n",
    "                        if max(sig) > -1e-3:\n",
    "                            zero_level = max(sig) - 1e-12\n",
    "\n",
    "                    if min(sig) == 0:\n",
    "                        zero_level = 1e-12\n",
    "\n",
    "                    if max(sig) == 0:\n",
    "                        zero_level = -1e-12\n",
    "\n",
    "                    CS = ax.tricontour(\n",
    "                        triang, sig, [zero_level], linewidths=1, linestyles=\"dashed\"\n",
    "                    )\n",
    "\n",
    "        # plot the steel stresses\n",
    "        steel_patches = []\n",
    "        colours = []\n",
    "\n",
    "        for idx, sig in enumerate(mk_res_list[res_idx].steel_stresses):\n",
    "            steel_patches.append(\n",
    "                mpatches.Polygon(\n",
    "                    xy=list(\n",
    "                        mk_res_list[res_idx]\n",
    "                        .concrete_section.steel_geometries[idx]\n",
    "                        .geom.exterior.coords\n",
    "                    )\n",
    "                )\n",
    "            )\n",
    "            colours.append(sig)\n",
    "\n",
    "        patch = PatchCollection(steel_patches, cmap=cmap_steel)\n",
    "        patch.set_array(colours)\n",
    "        ax.add_collection(patch)\n",
    "        ax.set_aspect(\"equal\", anchor=\"C\")\n",
    "        ax.set_xlim(0, 900)\n",
    "        ax.set_ylim(0, 1200)\n",
    "\n",
    "        fig = ax.get_figure()\n",
    "        fig.axes[1].plot(k_list[: res_idx + 2], np.array(m_list[: res_idx + 2]) / 1e6)\n",
    "        plt.xlabel(\"Curvature\")\n",
    "        plt.ylabel(\"Moment\")\n",
    "        plt.title(\"Moment-Curvature\")\n",
    "        fig.axes[1].set_xlim(0, 2.5e-5)\n",
    "        fig.axes[1].set_ylim(0, 3700)\n",
    "        plt.grid(True)\n",
    "\n",
    "    return ax"
   ]
  },
  {
   "cell_type": "code",
   "execution_count": 170,
   "id": "66ba6dd6",
   "metadata": {
    "scrolled": true
   },
   "outputs": [],
   "source": [
    "# generate images\n",
    "for i in range(len(stress_res_list)):\n",
    "    ax = plot_stress_and_graph(\n",
    "        i,\n",
    "        stress_res_list,\n",
    "        kappa_list,\n",
    "        moment_list,\n",
    "        ncols=2,\n",
    "        filename=f\"anim/{i:03d}.png\",\n",
    "        dpi=200,\n",
    "    )"
   ]
  },
  {
   "cell_type": "code",
   "execution_count": null,
   "id": "bc88f815",
   "metadata": {},
   "outputs": [],
   "source": []
  }
 ],
 "metadata": {
  "kernelspec": {
   "display_name": "Python 3 (ipykernel)",
   "language": "python",
   "name": "python3"
  },
  "language_info": {
   "codemirror_mode": {
    "name": "ipython",
    "version": 3
   },
   "file_extension": ".py",
   "mimetype": "text/x-python",
   "name": "python",
   "nbconvert_exporter": "python",
   "pygments_lexer": "ipython3",
   "version": "3.8.12"
  }
 },
 "nbformat": 4,
 "nbformat_minor": 5
}
