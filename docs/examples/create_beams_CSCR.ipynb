{
 "cells": [
  {
   "cell_type": "code",
   "execution_count": 1,
   "id": "1c1b7a3e-4140-4d38-9e3c-b9dd8aa901f2",
   "metadata": {},
   "outputs": [],
   "source": [
    "%load_ext autoreload\n",
    "%autoreload 2"
   ]
  },
  {
   "cell_type": "markdown",
   "id": "ffa063d0-ee53-4c10-b5aa-d5ab51ddafb2",
   "metadata": {},
   "source": [
    "Create a reinforced concrete beam"
   ]
  },
  {
   "cell_type": "markdown",
   "id": "2eba11dc-1f6c-4cb8-954f-b5f97355958d",
   "metadata": {},
   "source": [
    "Create and design a reinforced concrete beam with concrete_properties"
   ]
  },
  {
   "cell_type": "code",
   "execution_count": null,
   "id": "647fc967-2191-4c79-a441-fcbb208a3b6b",
   "metadata": {},
   "outputs": [],
   "source": []
  },
  {
   "cell_type": "code",
   "execution_count": null,
   "id": "63e519a0-a756-440a-bd47-3451fc24ba71",
   "metadata": {},
   "outputs": [],
   "source": []
  },
  {
   "cell_type": "code",
   "execution_count": null,
   "id": "f6dab46d-08cc-4c63-908d-5e56eb224a2e",
   "metadata": {},
   "outputs": [],
   "source": []
  },
  {
   "cell_type": "code",
   "execution_count": null,
   "id": "a89aa3b4-e1a7-4400-b3bb-a6c218c02736",
   "metadata": {},
   "outputs": [],
   "source": []
  },
  {
   "cell_type": "code",
   "execution_count": null,
   "id": "38adabf4-52e3-4add-aed8-284b457ba6c1",
   "metadata": {},
   "outputs": [],
   "source": []
  },
  {
   "cell_type": "code",
   "execution_count": null,
   "id": "e060418d-c9b9-44b1-9d35-fcc9d1dad87d",
   "metadata": {},
   "outputs": [],
   "source": []
  }
 ],
 "metadata": {
  "kernelspec": {
   "display_name": "Python 3 (ipykernel)",
   "language": "python",
   "name": "python3"
  },
  "language_info": {
   "codemirror_mode": {
    "name": "ipython",
    "version": 3
   },
   "file_extension": ".py",
   "mimetype": "text/x-python",
   "name": "python",
   "nbconvert_exporter": "python",
   "pygments_lexer": "ipython3",
   "version": "3.10.14"
  }
 },
 "nbformat": 4,
 "nbformat_minor": 5
}
