{
 "cells": [
  {
   "cell_type": "markdown",
   "id": "0",
   "metadata": {},
   "source": [
    "# Concrete section properties according to CSCR 2010/14 and ACI 318-19"
   ]
  },
  {
   "cell_type": "markdown",
   "id": "1",
   "metadata": {},
   "source": [
    "This example demonstrates how to create a simple reinforced concrete cross-section and obtain the gross area properties. We start by importing the necessary modules."
   ]
  },
  {
   "cell_type": "code",
   "execution_count": 1,
   "id": "2",
   "metadata": {},
   "outputs": [],
   "source": [
    "from sectionproperties.pre.library import concrete_rectangular_section\n",
    "\n",
    "from concreteproperties import (\n",
    "    Concrete,\n",
    "    ConcreteLinear,\n",
    "    ConcreteSection,\n",
    "    RectangularStressBlock,\n",
    "    SteelBar,\n",
    "    SteelElasticPlastic,\n",
    ")"
   ]
  },
  {
   "cell_type": "markdown",
   "id": "3",
   "metadata": {},
   "source": [
    "## Assign Materials\n",
    "\n",
    "The materials used in this example will be 32 MPa concrete and 500 MPa steel, specified in accordance with AS 3600:2018."
   ]
  },
  {
   "cell_type": "code",
   "execution_count": 2,
   "id": "4",
   "metadata": {},
   "outputs": [],
   "source": [
    "concrete = Concrete(\n",
    "    name=\"32 MPa Concrete\",\n",
    "    density=2.4e-6,\n",
    "    stress_strain_profile=ConcreteLinear(elastic_modulus=30.1e3),\n",
    "    ultimate_stress_strain_profile=RectangularStressBlock(\n",
    "        compressive_strength=32,\n",
    "        alpha=0.802,\n",
    "        gamma=0.89,\n",
    "        ultimate_strain=0.003,\n",
    "    ),\n",
    "    flexural_tensile_strength=3.4,\n",
    "    colour=\"lightgrey\",\n",
    ")\n",
    "\n",
    "steel = SteelBar(\n",
    "    name=\"500 MPa Steel\",\n",
    "    density=7.85e-6,\n",
    "    stress_strain_profile=SteelElasticPlastic(\n",
    "        yield_strength=500,\n",
    "        elastic_modulus=200e3,\n",
    "        fracture_strain=0.05,\n",
    "    ),\n",
    "    colour=\"grey\",\n",
    ")"
   ]
  },
  {
   "cell_type": "markdown",
   "id": "5",
   "metadata": {},
   "source": [
    "## Create Geometry and Concrete Section\n",
    "\n",
    "The section being analysed in this example is a 600D x 400W rectangular beam. The reinforcement detailed is 3N20 top bars and 3N24 bottom bars, with 30 mm of cover. The geometry is generated using the *sectionproperties* concrete sections library."
   ]
  },
  {
   "cell_type": "code",
   "execution_count": 3,
   "id": "6",
   "metadata": {},
   "outputs": [
    {
     "data": {
      "image/png": "[encoded data removed]",
      "text/plain": [
       "<Figure size 640x480 with 1 Axes>"
      ]
     },
     "metadata": {},
     "output_type": "display_data"
    },
    {
     "data": {
      "text/plain": [
       "<Axes: title={'center': 'Reinforced Concrete Section'}>"
      ]
     },
     "execution_count": 3,
     "metadata": {},
     "output_type": "execute_result"
    }
   ],
   "source": [
    "geom = concrete_rectangular_section(\n",
    "    d=600,\n",
    "    b=400,\n",
    "    dia_top=20,\n",
    "    area_top=310,\n",
    "    n_top=3,\n",
    "    c_top=30,\n",
    "    dia_bot=24,\n",
    "    area_bot=450,\n",
    "    n_bot=3,\n",
    "    c_bot=30,\n",
    "    conc_mat=concrete,\n",
    "    steel_mat=steel,\n",
    ")\n",
    "\n",
    "conc_sec = ConcreteSection(geom)\n",
    "conc_sec.plot_section()"
   ]
  },
  {
   "cell_type": "markdown",
   "id": "7",
   "metadata": {},
   "source": [
    "## Gross Properties\n",
    "\n",
    "Creating a ``ConcreteSection`` object automatically calculates the gross area properties of the reinforced concrete cross-section. These can be obtained by using the ``get_gross_properties()`` method. The section properties can be printed by calling the ``print_results()`` method."
   ]
  },
  {
   "cell_type": "code",
   "execution_count": 4,
   "id": "8",
   "metadata": {},
   "outputs": [
    {
     "data": {
      "text/html": [
       "<pre style=\"white-space:pre;overflow-x:auto;line-height:normal;font-family:Menlo,'DejaVu Sans Mono',consolas,'Courier New',monospace\"><span style=\"font-style: italic\">    Gross Concrete Section Properties     </span>\n",
       "┏━━━━━━━━━━━━━━━━━━━━━━━━━━━┳━━━━━━━━━━━━┓\n",
       "┃<span style=\"font-weight: bold\"> Property                  </span>┃<span style=\"font-weight: bold\">      Value </span>┃\n",
       "┡━━━━━━━━━━━━━━━━━━━━━━━━━━━╇━━━━━━━━━━━━┩\n",
       "│<span style=\"color: #008080; text-decoration-color: #008080\"> Total Area                </span>│<span style=\"color: #008000; text-decoration-color: #008000\">  2.400e+05 </span>│\n",
       "│<span style=\"color: #008080; text-decoration-color: #008080\"> Concrete Area             </span>│<span style=\"color: #008000; text-decoration-color: #008000\">  2.377e+05 </span>│\n",
       "│<span style=\"color: #008080; text-decoration-color: #008080\"> Lumped Reinforcement Area </span>│<span style=\"color: #008000; text-decoration-color: #008000\">  2.280e+03 </span>│\n",
       "│<span style=\"color: #008080; text-decoration-color: #008080\"> Axial Rigidity (EA)       </span>│<span style=\"color: #008000; text-decoration-color: #008000\">  7.611e+09 </span>│\n",
       "│<span style=\"color: #008080; text-decoration-color: #008080\"> Mass (per unit length)    </span>│<span style=\"color: #008000; text-decoration-color: #008000\">  5.884e-01 </span>│\n",
       "│<span style=\"color: #008080; text-decoration-color: #008080\"> Perimeter                 </span>│<span style=\"color: #008000; text-decoration-color: #008000\">  2.000e+03 </span>│\n",
       "│<span style=\"color: #008080; text-decoration-color: #008080\"> E.Qx                      </span>│<span style=\"color: #008000; text-decoration-color: #008000\">  2.265e+12 </span>│\n",
       "│<span style=\"color: #008080; text-decoration-color: #008080\"> E.Qy                      </span>│<span style=\"color: #008000; text-decoration-color: #008000\">  1.522e+12 </span>│\n",
       "│<span style=\"color: #008080; text-decoration-color: #008080\"> x-Centroid                </span>│<span style=\"color: #008000; text-decoration-color: #008000\">  2.000e+02 </span>│\n",
       "│<span style=\"color: #008080; text-decoration-color: #008080\"> y-Centroid                </span>│<span style=\"color: #008000; text-decoration-color: #008000\">  2.976e+02 </span>│\n",
       "│<span style=\"color: #008080; text-decoration-color: #008080\"> x-Centroid (Gross)        </span>│<span style=\"color: #008000; text-decoration-color: #008000\">  2.000e+02 </span>│\n",
       "│<span style=\"color: #008080; text-decoration-color: #008080\"> y-Centroid (Gross)        </span>│<span style=\"color: #008000; text-decoration-color: #008000\">  3.000e+02 </span>│\n",
       "│<span style=\"color: #008080; text-decoration-color: #008080\"> E.Ixx_g                   </span>│<span style=\"color: #008000; text-decoration-color: #008000\">  9.168e+14 </span>│\n",
       "│<span style=\"color: #008080; text-decoration-color: #008080\"> E.Iyy_g                   </span>│<span style=\"color: #008000; text-decoration-color: #008000\">  4.073e+14 </span>│\n",
       "│<span style=\"color: #008080; text-decoration-color: #008080\"> E.Ixy_g                   </span>│<span style=\"color: #008000; text-decoration-color: #008000\">  4.531e+14 </span>│\n",
       "│<span style=\"color: #008080; text-decoration-color: #008080\"> E.Ixx_c                   </span>│<span style=\"color: #008000; text-decoration-color: #008000\">  2.426e+14 </span>│\n",
       "│<span style=\"color: #008080; text-decoration-color: #008080\"> E.Iyy_c                   </span>│<span style=\"color: #008000; text-decoration-color: #008000\">  1.028e+14 </span>│\n",
       "│<span style=\"color: #008080; text-decoration-color: #008080\"> E.Ixy_c                   </span>│<span style=\"color: #008000; text-decoration-color: #008000\"> -1.875e-01 </span>│\n",
       "│<span style=\"color: #008080; text-decoration-color: #008080\"> E.I11                     </span>│<span style=\"color: #008000; text-decoration-color: #008000\">  2.426e+14 </span>│\n",
       "│<span style=\"color: #008080; text-decoration-color: #008080\"> E.I22                     </span>│<span style=\"color: #008000; text-decoration-color: #008000\">  1.028e+14 </span>│\n",
       "│<span style=\"color: #008080; text-decoration-color: #008080\"> Principal Axis Angle      </span>│<span style=\"color: #008000; text-decoration-color: #008000\">  0.000e+00 </span>│\n",
       "│<span style=\"color: #008080; text-decoration-color: #008080\"> E.Zxx+                    </span>│<span style=\"color: #008000; text-decoration-color: #008000\">  8.024e+11 </span>│\n",
       "│<span style=\"color: #008080; text-decoration-color: #008080\"> E.Zxx-                    </span>│<span style=\"color: #008000; text-decoration-color: #008000\">  8.153e+11 </span>│\n",
       "│<span style=\"color: #008080; text-decoration-color: #008080\"> E.Zyy+                    </span>│<span style=\"color: #008000; text-decoration-color: #008000\">  5.142e+11 </span>│\n",
       "│<span style=\"color: #008080; text-decoration-color: #008080\"> E.Zyy-                    </span>│<span style=\"color: #008000; text-decoration-color: #008000\">  5.142e+11 </span>│\n",
       "│<span style=\"color: #008080; text-decoration-color: #008080\"> E.Z11+                    </span>│<span style=\"color: #008000; text-decoration-color: #008000\">  8.024e+11 </span>│\n",
       "│<span style=\"color: #008080; text-decoration-color: #008080\"> E.Z11-                    </span>│<span style=\"color: #008000; text-decoration-color: #008000\">  8.153e+11 </span>│\n",
       "│<span style=\"color: #008080; text-decoration-color: #008080\"> E.Z22+                    </span>│<span style=\"color: #008000; text-decoration-color: #008000\">  5.142e+11 </span>│\n",
       "│<span style=\"color: #008080; text-decoration-color: #008080\"> E.Z22-                    </span>│<span style=\"color: #008000; text-decoration-color: #008000\">  5.142e+11 </span>│\n",
       "│<span style=\"color: #008080; text-decoration-color: #008080\"> Ultimate Concrete Strain  </span>│<span style=\"color: #008000; text-decoration-color: #008000\">  3.000e-03 </span>│\n",
       "└───────────────────────────┴────────────┘\n",
       "</pre>\n"
      ],
      "text/plain": [
       "\u001b[3m    Gross Concrete Section Properties     \u001b[0m\n",
       "┏━━━━━━━━━━━━━━━━━━━━━━━━━━━┳━━━━━━━━━━━━┓\n",
       "┃\u001b[1m \u001b[0m\u001b[1mProperty                 \u001b[0m\u001b[1m \u001b[0m┃\u001b[1m \u001b[0m\u001b[1m     Value\u001b[0m\u001b[1m \u001b[0m┃\n",
       "┡━━━━━━━━━━━━━━━━━━━━━━━━━━━╇━━━━━━━━━━━━┩\n",
       "│\u001b[36m \u001b[0m\u001b[36mTotal Area               \u001b[0m\u001b[36m \u001b[0m│\u001b[32m \u001b[0m\u001b[32m 2.400e+05\u001b[0m\u001b[32m \u001b[0m│\n",
       "│\u001b[36m \u001b[0m\u001b[36mConcrete Area            \u001b[0m\u001b[36m \u001b[0m│\u001b[32m \u001b[0m\u001b[32m 2.377e+05\u001b[0m\u001b[32m \u001b[0m│\n",
       "│\u001b[36m \u001b[0m\u001b[36mLumped Reinforcement Area\u001b[0m\u001b[36m \u001b[0m│\u001b[32m \u001b[0m\u001b[32m 2.280e+03\u001b[0m\u001b[32m \u001b[0m│\n",
       "│\u001b[36m \u001b[0m\u001b[36mAxial Rigidity (EA)      \u001b[0m\u001b[36m \u001b[0m│\u001b[32m \u001b[0m\u001b[32m 7.611e+09\u001b[0m\u001b[32m \u001b[0m│\n",
       "│\u001b[36m \u001b[0m\u001b[36mMass (per unit length)   \u001b[0m\u001b[36m \u001b[0m│\u001b[32m \u001b[0m\u001b[32m 5.884e-01\u001b[0m\u001b[32m \u001b[0m│\n",
       "│\u001b[36m \u001b[0m\u001b[36mPerimeter                \u001b[0m\u001b[36m \u001b[0m│\u001b[32m \u001b[0m\u001b[32m 2.000e+03\u001b[0m\u001b[32m \u001b[0m│\n",
       "│\u001b[36m \u001b[0m\u001b[36mE.Qx                     \u001b[0m\u001b[36m \u001b[0m│\u001b[32m \u001b[0m\u001b[32m 2.265e+12\u001b[0m\u001b[32m \u001b[0m│\n",
       "│\u001b[36m \u001b[0m\u001b[36mE.Qy                     \u001b[0m\u001b[36m \u001b[0m│\u001b[32m \u001b[0m\u001b[32m 1.522e+12\u001b[0m\u001b[32m \u001b[0m│\n",
       "│\u001b[36m \u001b[0m\u001b[36mx-Centroid               \u001b[0m\u001b[36m \u001b[0m│\u001b[32m \u001b[0m\u001b[32m 2.000e+02\u001b[0m\u001b[32m \u001b[0m│\n",
       "│\u001b[36m \u001b[0m\u001b[36my-Centroid               \u001b[0m\u001b[36m \u001b[0m│\u001b[32m \u001b[0m\u001b[32m 2.976e+02\u001b[0m\u001b[32m \u001b[0m│\n",
       "│\u001b[36m \u001b[0m\u001b[36mx-Centroid (Gross)       \u001b[0m\u001b[36m \u001b[0m│\u001b[32m \u001b[0m\u001b[32m 2.000e+02\u001b[0m\u001b[32m \u001b[0m│\n",
       "│\u001b[36m \u001b[0m\u001b[36my-Centroid (Gross)       \u001b[0m\u001b[36m \u001b[0m│\u001b[32m \u001b[0m\u001b[32m 3.000e+02\u001b[0m\u001b[32m \u001b[0m│\n",
       "│\u001b[36m \u001b[0m\u001b[36mE.Ixx_g                  \u001b[0m\u001b[36m \u001b[0m│\u001b[32m \u001b[0m\u001b[32m 9.168e+14\u001b[0m\u001b[32m \u001b[0m│\n",
       "│\u001b[36m \u001b[0m\u001b[36mE.Iyy_g                  \u001b[0m\u001b[36m \u001b[0m│\u001b[32m \u001b[0m\u001b[32m 4.073e+14\u001b[0m\u001b[32m \u001b[0m│\n",
       "│\u001b[36m \u001b[0m\u001b[36mE.Ixy_g                  \u001b[0m\u001b[36m \u001b[0m│\u001b[32m \u001b[0m\u001b[32m 4.531e+14\u001b[0m\u001b[32m \u001b[0m│\n",
       "│\u001b[36m \u001b[0m\u001b[36mE.Ixx_c                  \u001b[0m\u001b[36m \u001b[0m│\u001b[32m \u001b[0m\u001b[32m 2.426e+14\u001b[0m\u001b[32m \u001b[0m│\n",
       "│\u001b[36m \u001b[0m\u001b[36mE.Iyy_c                  \u001b[0m\u001b[36m \u001b[0m│\u001b[32m \u001b[0m\u001b[32m 1.028e+14\u001b[0m\u001b[32m \u001b[0m│\n",
       "│\u001b[36m \u001b[0m\u001b[36mE.Ixy_c                  \u001b[0m\u001b[36m \u001b[0m│\u001b[32m \u001b[0m\u001b[32m-1.875e-01\u001b[0m\u001b[32m \u001b[0m│\n",
       "│\u001b[36m \u001b[0m\u001b[36mE.I11                    \u001b[0m\u001b[36m \u001b[0m│\u001b[32m \u001b[0m\u001b[32m 2.426e+14\u001b[0m\u001b[32m \u001b[0m│\n",
       "│\u001b[36m \u001b[0m\u001b[36mE.I22                    \u001b[0m\u001b[36m \u001b[0m│\u001b[32m \u001b[0m\u001b[32m 1.028e+14\u001b[0m\u001b[32m \u001b[0m│\n",
       "│\u001b[36m \u001b[0m\u001b[36mPrincipal Axis Angle     \u001b[0m\u001b[36m \u001b[0m│\u001b[32m \u001b[0m\u001b[32m 0.000e+00\u001b[0m\u001b[32m \u001b[0m│\n",
       "│\u001b[36m \u001b[0m\u001b[36mE.Zxx+                   \u001b[0m\u001b[36m \u001b[0m│\u001b[32m \u001b[0m\u001b[32m 8.024e+11\u001b[0m\u001b[32m \u001b[0m│\n",
       "│\u001b[36m \u001b[0m\u001b[36mE.Zxx-                   \u001b[0m\u001b[36m \u001b[0m│\u001b[32m \u001b[0m\u001b[32m 8.153e+11\u001b[0m\u001b[32m \u001b[0m│\n",
       "│\u001b[36m \u001b[0m\u001b[36mE.Zyy+                   \u001b[0m\u001b[36m \u001b[0m│\u001b[32m \u001b[0m\u001b[32m 5.142e+11\u001b[0m\u001b[32m \u001b[0m│\n",
       "│\u001b[36m \u001b[0m\u001b[36mE.Zyy-                   \u001b[0m\u001b[36m \u001b[0m│\u001b[32m \u001b[0m\u001b[32m 5.142e+11\u001b[0m\u001b[32m \u001b[0m│\n",
       "│\u001b[36m \u001b[0m\u001b[36mE.Z11+                   \u001b[0m\u001b[36m \u001b[0m│\u001b[32m \u001b[0m\u001b[32m 8.024e+11\u001b[0m\u001b[32m \u001b[0m│\n",
       "│\u001b[36m \u001b[0m\u001b[36mE.Z11-                   \u001b[0m\u001b[36m \u001b[0m│\u001b[32m \u001b[0m\u001b[32m 8.153e+11\u001b[0m\u001b[32m \u001b[0m│\n",
       "│\u001b[36m \u001b[0m\u001b[36mE.Z22+                   \u001b[0m\u001b[36m \u001b[0m│\u001b[32m \u001b[0m\u001b[32m 5.142e+11\u001b[0m\u001b[32m \u001b[0m│\n",
       "│\u001b[36m \u001b[0m\u001b[36mE.Z22-                   \u001b[0m\u001b[36m \u001b[0m│\u001b[32m \u001b[0m\u001b[32m 5.142e+11\u001b[0m\u001b[32m \u001b[0m│\n",
       "│\u001b[36m \u001b[0m\u001b[36mUltimate Concrete Strain \u001b[0m\u001b[36m \u001b[0m│\u001b[32m \u001b[0m\u001b[32m 3.000e-03\u001b[0m\u001b[32m \u001b[0m│\n",
       "└───────────────────────────┴────────────┘\n"
      ]
     },
     "metadata": {},
     "output_type": "display_data"
    }
   ],
   "source": [
    "gross_props = conc_sec.get_gross_properties()\n",
    "gross_props.print_results(fmt=\".3e\")"
   ]
  },
  {
   "cell_type": "markdown",
   "id": "9",
   "metadata": {},
   "source": [
    "## Transformed Properties\n",
    "\n",
    "The above section properties are multiplied by the elastic moduli, e.g. axial rigidity (``EA``) and flexural rigidity (``EI``). Transformed section properties can be obtained using ``get_transformed_gross_properties()`` and providing a reference ``elastic_modulus``."
   ]
  },
  {
   "cell_type": "code",
   "execution_count": 5,
   "id": "10",
   "metadata": {},
   "outputs": [
    {
     "data": {
      "text/html": [
       "<pre style=\"white-space:pre;overflow-x:auto;line-height:normal;font-family:Menlo,'DejaVu Sans Mono',consolas,'Courier New',monospace\"><span style=\"font-style: italic\">    Transformed Gross    </span>\n",
       "<span style=\"font-style: italic\">    Concrete Section     </span>\n",
       "<span style=\"font-style: italic\">       Properties        </span>\n",
       "┏━━━━━━━━━━┳━━━━━━━━━━━━┓\n",
       "┃<span style=\"font-weight: bold\"> Property </span>┃<span style=\"font-weight: bold\">      Value </span>┃\n",
       "┡━━━━━━━━━━╇━━━━━━━━━━━━┩\n",
       "│<span style=\"color: #008080; text-decoration-color: #008080\"> E_ref    </span>│<span style=\"color: #008000; text-decoration-color: #008000\">  3.010e+04 </span>│\n",
       "│<span style=\"color: #008080; text-decoration-color: #008080\"> Area     </span>│<span style=\"color: #008000; text-decoration-color: #008000\">  2.529e+05 </span>│\n",
       "│<span style=\"color: #008080; text-decoration-color: #008080\"> Qx       </span>│<span style=\"color: #008000; text-decoration-color: #008000\">  7.526e+07 </span>│\n",
       "│<span style=\"color: #008080; text-decoration-color: #008080\"> Qy       </span>│<span style=\"color: #008000; text-decoration-color: #008000\">  5.057e+07 </span>│\n",
       "│<span style=\"color: #008080; text-decoration-color: #008080\"> Ixx_g    </span>│<span style=\"color: #008000; text-decoration-color: #008000\">  3.046e+10 </span>│\n",
       "│<span style=\"color: #008080; text-decoration-color: #008080\"> Iyy_g    </span>│<span style=\"color: #008000; text-decoration-color: #008000\">  1.353e+10 </span>│\n",
       "│<span style=\"color: #008080; text-decoration-color: #008080\"> Ixy_g    </span>│<span style=\"color: #008000; text-decoration-color: #008000\">  1.505e+10 </span>│\n",
       "│<span style=\"color: #008080; text-decoration-color: #008080\"> Ixx_c    </span>│<span style=\"color: #008000; text-decoration-color: #008000\">  8.061e+09 </span>│\n",
       "│<span style=\"color: #008080; text-decoration-color: #008080\"> Iyy_c    </span>│<span style=\"color: #008000; text-decoration-color: #008000\">  3.417e+09 </span>│\n",
       "│<span style=\"color: #008080; text-decoration-color: #008080\"> Ixy_c    </span>│<span style=\"color: #008000; text-decoration-color: #008000\"> -6.229e-06 </span>│\n",
       "│<span style=\"color: #008080; text-decoration-color: #008080\"> I11      </span>│<span style=\"color: #008000; text-decoration-color: #008000\">  8.061e+09 </span>│\n",
       "│<span style=\"color: #008080; text-decoration-color: #008080\"> I22      </span>│<span style=\"color: #008000; text-decoration-color: #008000\">  3.417e+09 </span>│\n",
       "│<span style=\"color: #008080; text-decoration-color: #008080\"> Zxx+     </span>│<span style=\"color: #008000; text-decoration-color: #008000\">  2.666e+07 </span>│\n",
       "│<span style=\"color: #008080; text-decoration-color: #008080\"> Zxx-     </span>│<span style=\"color: #008000; text-decoration-color: #008000\">  2.708e+07 </span>│\n",
       "│<span style=\"color: #008080; text-decoration-color: #008080\"> Zyy+     </span>│<span style=\"color: #008000; text-decoration-color: #008000\">  1.708e+07 </span>│\n",
       "│<span style=\"color: #008080; text-decoration-color: #008080\"> Zyy-     </span>│<span style=\"color: #008000; text-decoration-color: #008000\">  1.708e+07 </span>│\n",
       "│<span style=\"color: #008080; text-decoration-color: #008080\"> Z11+     </span>│<span style=\"color: #008000; text-decoration-color: #008000\">  2.666e+07 </span>│\n",
       "│<span style=\"color: #008080; text-decoration-color: #008080\"> Z11-     </span>│<span style=\"color: #008000; text-decoration-color: #008000\">  2.708e+07 </span>│\n",
       "│<span style=\"color: #008080; text-decoration-color: #008080\"> Z22+     </span>│<span style=\"color: #008000; text-decoration-color: #008000\">  1.708e+07 </span>│\n",
       "│<span style=\"color: #008080; text-decoration-color: #008080\"> Z22-     </span>│<span style=\"color: #008000; text-decoration-color: #008000\">  1.708e+07 </span>│\n",
       "└──────────┴────────────┘\n",
       "</pre>\n"
      ],
      "text/plain": [
       "\u001b[3m    Transformed Gross    \u001b[0m\n",
       "\u001b[3m    Concrete Section     \u001b[0m\n",
       "\u001b[3m       Properties        \u001b[0m\n",
       "┏━━━━━━━━━━┳━━━━━━━━━━━━┓\n",
       "┃\u001b[1m \u001b[0m\u001b[1mProperty\u001b[0m\u001b[1m \u001b[0m┃\u001b[1m \u001b[0m\u001b[1m     Value\u001b[0m\u001b[1m \u001b[0m┃\n",
       "┡━━━━━━━━━━╇━━━━━━━━━━━━┩\n",
       "│\u001b[36m \u001b[0m\u001b[36mE_ref   \u001b[0m\u001b[36m \u001b[0m│\u001b[32m \u001b[0m\u001b[32m 3.010e+04\u001b[0m\u001b[32m \u001b[0m│\n",
       "│\u001b[36m \u001b[0m\u001b[36mArea    \u001b[0m\u001b[36m \u001b[0m│\u001b[32m \u001b[0m\u001b[32m 2.529e+05\u001b[0m\u001b[32m \u001b[0m│\n",
       "│\u001b[36m \u001b[0m\u001b[36mQx      \u001b[0m\u001b[36m \u001b[0m│\u001b[32m \u001b[0m\u001b[32m 7.526e+07\u001b[0m\u001b[32m \u001b[0m│\n",
       "│\u001b[36m \u001b[0m\u001b[36mQy      \u001b[0m\u001b[36m \u001b[0m│\u001b[32m \u001b[0m\u001b[32m 5.057e+07\u001b[0m\u001b[32m \u001b[0m│\n",
       "│\u001b[36m \u001b[0m\u001b[36mIxx_g   \u001b[0m\u001b[36m \u001b[0m│\u001b[32m \u001b[0m\u001b[32m 3.046e+10\u001b[0m\u001b[32m \u001b[0m│\n",
       "│\u001b[36m \u001b[0m\u001b[36mIyy_g   \u001b[0m\u001b[36m \u001b[0m│\u001b[32m \u001b[0m\u001b[32m 1.353e+10\u001b[0m\u001b[32m \u001b[0m│\n",
       "│\u001b[36m \u001b[0m\u001b[36mIxy_g   \u001b[0m\u001b[36m \u001b[0m│\u001b[32m \u001b[0m\u001b[32m 1.505e+10\u001b[0m\u001b[32m \u001b[0m│\n",
       "│\u001b[36m \u001b[0m\u001b[36mIxx_c   \u001b[0m\u001b[36m \u001b[0m│\u001b[32m \u001b[0m\u001b[32m 8.061e+09\u001b[0m\u001b[32m \u001b[0m│\n",
       "│\u001b[36m \u001b[0m\u001b[36mIyy_c   \u001b[0m\u001b[36m \u001b[0m│\u001b[32m \u001b[0m\u001b[32m 3.417e+09\u001b[0m\u001b[32m \u001b[0m│\n",
       "│\u001b[36m \u001b[0m\u001b[36mIxy_c   \u001b[0m\u001b[36m \u001b[0m│\u001b[32m \u001b[0m\u001b[32m-6.229e-06\u001b[0m\u001b[32m \u001b[0m│\n",
       "│\u001b[36m \u001b[0m\u001b[36mI11     \u001b[0m\u001b[36m \u001b[0m│\u001b[32m \u001b[0m\u001b[32m 8.061e+09\u001b[0m\u001b[32m \u001b[0m│\n",
       "│\u001b[36m \u001b[0m\u001b[36mI22     \u001b[0m\u001b[36m \u001b[0m│\u001b[32m \u001b[0m\u001b[32m 3.417e+09\u001b[0m\u001b[32m \u001b[0m│\n",
       "│\u001b[36m \u001b[0m\u001b[36mZxx+    \u001b[0m\u001b[36m \u001b[0m│\u001b[32m \u001b[0m\u001b[32m 2.666e+07\u001b[0m\u001b[32m \u001b[0m│\n",
       "│\u001b[36m \u001b[0m\u001b[36mZxx-    \u001b[0m\u001b[36m \u001b[0m│\u001b[32m \u001b[0m\u001b[32m 2.708e+07\u001b[0m\u001b[32m \u001b[0m│\n",
       "│\u001b[36m \u001b[0m\u001b[36mZyy+    \u001b[0m\u001b[36m \u001b[0m│\u001b[32m \u001b[0m\u001b[32m 1.708e+07\u001b[0m\u001b[32m \u001b[0m│\n",
       "│\u001b[36m \u001b[0m\u001b[36mZyy-    \u001b[0m\u001b[36m \u001b[0m│\u001b[32m \u001b[0m\u001b[32m 1.708e+07\u001b[0m\u001b[32m \u001b[0m│\n",
       "│\u001b[36m \u001b[0m\u001b[36mZ11+    \u001b[0m\u001b[36m \u001b[0m│\u001b[32m \u001b[0m\u001b[32m 2.666e+07\u001b[0m\u001b[32m \u001b[0m│\n",
       "│\u001b[36m \u001b[0m\u001b[36mZ11-    \u001b[0m\u001b[36m \u001b[0m│\u001b[32m \u001b[0m\u001b[32m 2.708e+07\u001b[0m\u001b[32m \u001b[0m│\n",
       "│\u001b[36m \u001b[0m\u001b[36mZ22+    \u001b[0m\u001b[36m \u001b[0m│\u001b[32m \u001b[0m\u001b[32m 1.708e+07\u001b[0m\u001b[32m \u001b[0m│\n",
       "│\u001b[36m \u001b[0m\u001b[36mZ22-    \u001b[0m\u001b[36m \u001b[0m│\u001b[32m \u001b[0m\u001b[32m 1.708e+07\u001b[0m\u001b[32m \u001b[0m│\n",
       "└──────────┴────────────┘\n"
      ]
     },
     "metadata": {},
     "output_type": "display_data"
    }
   ],
   "source": [
    "transformed_props = conc_sec.get_transformed_gross_properties(elastic_modulus=30.1e3)\n",
    "transformed_props.print_results(fmt=\".3e\")"
   ]
  }
 ],
 "metadata": {
  "kernelspec": {
   "display_name": "Python 3 (ipykernel)",
   "language": "python",
   "name": "python3"
  },
  "language_info": {
   "codemirror_mode": {
    "name": "ipython",
    "version": 3
   },
   "file_extension": ".py",
   "mimetype": "text/x-python",
   "name": "python",
   "nbconvert_exporter": "python",
   "pygments_lexer": "ipython3",
   "version": "3.10.14"
  }
 },
 "nbformat": 4,
 "nbformat_minor": 5
}
